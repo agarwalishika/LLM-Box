{
 "cells": [
  {
   "cell_type": "code",
   "execution_count": 18,
   "metadata": {},
   "outputs": [],
   "source": [
    "from rouge_score import rouge_scorer\n",
    "import os"
   ]
  },
  {
   "cell_type": "markdown",
   "metadata": {},
   "source": [
    "# Data Preprocessing"
   ]
  },
  {
   "cell_type": "code",
   "execution_count": 19,
   "metadata": {},
   "outputs": [],
   "source": [
    "files = os.listdir('generated_infoboxes/ground_truth/')\n",
    "ground_truth = []\n",
    "for fname in files:\n",
    "    try:\n",
    "        with open(f'generated_infoboxes/ground_truth/{fname}', 'r') as f:\n",
    "            ground_truth.append(f.read().replace('\\n', ''))\n",
    "    except:\n",
    "        print(fname)"
   ]
  },
  {
   "cell_type": "code",
   "execution_count": 20,
   "metadata": {},
   "outputs": [],
   "source": [
    "files = os.listdir('generated_infoboxes/llm_box/')\n",
    "llm_box = []\n",
    "for fname in files:\n",
    "    with open(f'generated_infoboxes/llm_box/{fname}', 'r') as f:\n",
    "        llm_box.append(f.read().replace('\\n', ''))"
   ]
  },
  {
   "cell_type": "markdown",
   "metadata": {},
   "source": [
    "# ROUGE"
   ]
  },
  {
   "cell_type": "code",
   "execution_count": 21,
   "metadata": {},
   "outputs": [],
   "source": [
    "scorer = rouge_scorer.RougeScorer(['rouge1', 'rougeL'], use_stemmer=True)\n",
    "\n",
    "r_scores = []\n",
    "rl_scores = []\n",
    "for pred, actual in zip(llm_box, ground_truth):\n",
    "    temp = scorer.score(pred, actual)\n",
    "    r_scores.append(temp['rouge1'])\n",
    "    rl_scores.append(temp['rougeL'])"
   ]
  },
  {
   "cell_type": "code",
   "execution_count": 22,
   "metadata": {},
   "outputs": [],
   "source": [
    "def average_sim_scores(rouge_scores):\n",
    "    sim = [0, 0, 0]\n",
    "    for score in rouge_scores:\n",
    "        for i in [0, 1, 2]:\n",
    "            sim[i] += score[i]\n",
    "\n",
    "    for i in [0, 1, 2]:\n",
    "        sim[i] /= len(r_scores)\n",
    "    print(sim)"
   ]
  },
  {
   "cell_type": "code",
   "execution_count": 23,
   "metadata": {},
   "outputs": [
    {
     "name": "stdout",
     "output_type": "stream",
     "text": [
      "[0.46244824653378136, 0.3955446090637168, 0.3590299641445778]\n",
      "[0.3313648252184588, 0.29268014552703725, 0.2605991711563577]\n"
     ]
    }
   ],
   "source": [
    "average_sim_scores(r_scores)\n",
    "average_sim_scores(rl_scores)"
   ]
  },
  {
   "cell_type": "code",
   "execution_count": null,
   "metadata": {},
   "outputs": [],
   "source": []
  }
 ],
 "metadata": {
  "kernelspec": {
   "display_name": "Python 3",
   "language": "python",
   "name": "python3"
  },
  "language_info": {
   "codemirror_mode": {
    "name": "ipython",
    "version": 3
   },
   "file_extension": ".py",
   "mimetype": "text/x-python",
   "name": "python",
   "nbconvert_exporter": "python",
   "pygments_lexer": "ipython3",
   "version": "0.0.0"
  }
 },
 "nbformat": 4,
 "nbformat_minor": 2
}
