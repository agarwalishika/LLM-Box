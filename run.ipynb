{
 "cells": [
  {
   "cell_type": "code",
   "execution_count": null,
   "id": "4384ee54",
   "metadata": {},
   "outputs": [],
   "source": [
    "'''\n",
    " * Copyright 2023 LLM-Info (?????????????????????)\n",
    " *\n",
    " * Licensed under the Apache License, Version 2.0 (the \"License\");\n",
    " * you may not use this file except in compliance with the License.\n",
    " * You may obtain a copy of the License at\n",
    " *\n",
    " *    http://www.apache.org/licenses/LICENSE-2.0\n",
    " *\n",
    " * Unless required by applicable law or agreed to in writing, software\n",
    " * distributed under the License is distributed on an \"AS IS\" BASIS,\n",
    " * WITHOUT WARRANTIES OR CONDITIONS OF ANY KIND, either express or implied.\n",
    " * See the License for the specific language governing permissions and\n",
    " * limitations under the License.\n",
    " '''"
   ]
  },
  {
   "attachments": {},
   "cell_type": "markdown",
   "id": "3b0435cb",
   "metadata": {},
   "source": [
    "# Generating Consistent and High Quality Infoboxes with LLMs"
   ]
  },
  {
   "cell_type": "code",
   "execution_count": 3,
   "id": "9e3839a6-9146-4f60-b74b-19abbc24278d",
   "metadata": {},
   "outputs": [],
   "source": [
    "# imports\n",
    "import ast  # for converting embeddings saved as strings back to arrays\n",
    "import openai  # for calling the OpenAI API\n",
    "import pandas as pd  # for storing text and embeddings data\n",
    "from scipy import spatial  # for calculating vector similarities for search\n",
    "\n",
    "\n",
    "# models\n",
    "EMBEDDING_MODEL = \"text-embedding-ada-002\"\n",
    "GPT_MODEL = \"gpt-3.5-turbo\"\n",
    "\n",
    "from config import *\n",
    "openai.api_key = OPENAI_API_KEY"
   ]
  },
  {
   "cell_type": "markdown",
   "id": "8a7c15f9",
   "metadata": {},
   "source": [
    "# Vector Database\n",
    "\n",
    "As input, we get raw Wikipedia text. As output, we will get the most similar infobox template.\n",
    "\n",
    "NOTE: do we want to structure the template as a bunch of fields or in proper format?"
   ]
  },
  {
   "cell_type": "code",
   "execution_count": null,
   "id": "b9a8c713-c8a9-47dc-85a4-871ee1395566",
   "metadata": {},
   "outputs": [],
   "source": [
    "# search function - replace with vdb function\n",
    "def fake_vdb(\n",
    "    query: str,\n",
    "    templates: list,\n",
    "    relatedness_fn=lambda x, y: 1 - spatial.distance.cosine(x, y),\n",
    "    top_n: int = 1\n",
    "):\n",
    "    '''\"\"\"Returns a list of strings and relatednesses, sorted from most related to least.\"\"\"\n",
    "    query_embedding_response = openai.Embedding.create(\n",
    "        model=EMBEDDING_MODEL,\n",
    "        input=query,\n",
    "    )\n",
    "    query_embedding = query_embedding_response[\"data\"][0][\"embedding\"]\n",
    "    strings_and_relatednesses = [\n",
    "        (row[\"text\"], relatedness_fn(query_embedding, row[\"embedding\"]))\n",
    "        for i, row in df.iterrows()\n",
    "    ]\n",
    "    strings_and_relatednesses.sort(key=lambda x: x[1], reverse=True)\n",
    "    strings, relatednesses = zip(*strings_and_relatednesses)\n",
    "    return strings[:top_n], relatednesses[:top_n]'''\n",
    "    return templates[0]\n"
   ]
  },
  {
   "cell_type": "markdown",
   "id": "0183b58a",
   "metadata": {},
   "source": [
    "# LLM Querying\n",
    "\n",
    "As input, we provide the raw Wikipedia text and the infobox template. As output, we receive the generated infobox."
   ]
  },
  {
   "cell_type": "code",
   "execution_count": null,
   "id": "1f45cecc",
   "metadata": {},
   "outputs": [],
   "source": [
    "def formulate_query(\n",
    "    article: str,\n",
    "    infobox_template: str\n",
    ") -> str:\n",
    "    introduction = \"Your task is to fill out a Wikipedia infobox. Below, you are given some context text and the infobox template.\\n\"\n",
    "    question = f\"\\n\\n Context text: {article}\\n\\n Infobox Template: {infobox_template} \\n\\n\"\n",
    "    end = 'Fill out the Wikipedia infobox. Feel free to add any fields that you think would be important to know. Remember, keep the infobox concise, accurate, and of good quality.'\n",
    "    return introduction + question + end\n",
    "\n",
    "def api_call(message, model: str = GPT_MODEL):\n",
    "    messages = [\n",
    "        {\"role\": \"user\", \"content\": message},\n",
    "    ]\n",
    "    response = openai.ChatCompletion.create(\n",
    "        model=model,\n",
    "        messages=messages,\n",
    "        temperature=0\n",
    "    )\n",
    "    response_message = response[\"choices\"][0][\"message\"][\"content\"]\n",
    "    return response_message\n",
    "\n",
    "def ask(\n",
    "    article: str,\n",
    "    infobox_template: str,\n",
    "    model: str = GPT_MODEL,\n",
    "    token_budget: int = 4096 - 500,\n",
    "    print_message: bool = False,\n",
    ") -> str:\n",
    "    \"\"\"Answers a query using GPT and a dataframe of relevant texts and embeddings.\"\"\"\n",
    "    message = formulate_query(article, infobox_template, model=model, token_budget=token_budget)\n",
    "    if print_message:\n",
    "        print(message)\n",
    "    \n",
    "    reply = api_call(message, model)\n",
    "    return reply"
   ]
  },
  {
   "cell_type": "markdown",
   "id": "bfaad38f",
   "metadata": {},
   "source": [
    "# Pipeline"
   ]
  },
  {
   "cell_type": "code",
   "execution_count": null,
   "id": "0a08932d",
   "metadata": {},
   "outputs": [],
   "source": [
    "# load the articles\n",
    "articles = ['hi', 'hello'] "
   ]
  },
  {
   "cell_type": "code",
   "execution_count": 4,
   "id": "06db89a1",
   "metadata": {},
   "outputs": [],
   "source": [
    "# load the infobox templates\n",
    "with open(infobox_templates_file, 'r') as f:\n",
    "    templates = f.readlines()\n",
    "templates = [x.strip() for x in templates]"
   ]
  },
  {
   "cell_type": "code",
   "execution_count": null,
   "id": "221eddf4",
   "metadata": {},
   "outputs": [],
   "source": [
    "for article in articles:\n",
    "    # classification\n",
    "    template, relatedness = fake_vdb(article, templates)\n",
    "\n",
    "    # generation\n",
    "    infobox = ask(article, template)\n",
    "    "
   ]
  }
 ],
 "metadata": {
  "kernelspec": {
   "display_name": "Python 3 (ipykernel)",
   "language": "python",
   "name": "python3"
  },
  "language_info": {
   "codemirror_mode": {
    "name": "ipython",
    "version": 3
   },
   "file_extension": ".py",
   "mimetype": "text/x-python",
   "name": "python",
   "nbconvert_exporter": "python",
   "pygments_lexer": "ipython3",
   "version": "3.10.7"
  },
  "vscode": {
   "interpreter": {
    "hash": "365536dcbde60510dc9073d6b991cd35db2d9bac356a11f5b64279a5e6708b97"
   }
  }
 },
 "nbformat": 4,
 "nbformat_minor": 5
}
