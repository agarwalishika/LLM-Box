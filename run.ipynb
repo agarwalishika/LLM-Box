{
 "cells": [
  {
   "cell_type": "code",
   "execution_count": null,
   "id": "4384ee54",
   "metadata": {},
   "outputs": [],
   "source": [
    "'''\n",
    " * Copyright 2023 LLM-Info (?????????????????????)\n",
    " *\n",
    " * Licensed under the Apache License, Version 2.0 (the \"License\");\n",
    " * you may not use this file except in compliance with the License.\n",
    " * You may obtain a copy of the License at\n",
    " *\n",
    " *    http://www.apache.org/licenses/LICENSE-2.0\n",
    " *\n",
    " * Unless required by applicable law or agreed to in writing, software\n",
    " * distributed under the License is distributed on an \"AS IS\" BASIS,\n",
    " * WITHOUT WARRANTIES OR CONDITIONS OF ANY KIND, either express or implied.\n",
    " * See the License for the specific language governing permissions and\n",
    " * limitations under the License.\n",
    " '''"
   ]
  },
  {
   "attachments": {},
   "cell_type": "markdown",
   "id": "3b0435cb",
   "metadata": {},
   "source": [
    "# Generating Consistent and High Quality Infoboxes with LLMs"
   ]
  },
  {
   "cell_type": "code",
   "execution_count": 16,
   "id": "9e3839a6-9146-4f60-b74b-19abbc24278d",
   "metadata": {},
   "outputs": [],
   "source": [
    "# imports\n",
    "import ast  # for converting embeddings saved as strings back to arrays\n",
    "import openai  # for calling the OpenAI API\n",
    "import pandas as pd  # for storing text and embeddings data\n",
    "from scipy import spatial  # for calculating vector similarities for search\n",
    "\n",
    "\n",
    "# models\n",
    "EMBEDDING_MODEL = \"text-embedding-ada-002\"\n",
    "GPT_MODEL = \"gpt-3.5-turbo\"\n",
    "\n",
    "from config import *\n",
    "openai.api_key = OPENAI_API_KEY"
   ]
  },
  {
   "cell_type": "markdown",
   "id": "8a7c15f9",
   "metadata": {},
   "source": [
    "# Vector Database\n",
    "\n",
    "As input, we get raw Wikipedia text. As output, we will get the most similar infobox template.\n",
    "\n",
    "NOTE: do we want to structure the template as a bunch of fields or in proper format?"
   ]
  },
  {
   "cell_type": "code",
   "execution_count": null,
   "id": "b9a8c713-c8a9-47dc-85a4-871ee1395566",
   "metadata": {},
   "outputs": [],
   "source": [
    "# search function - replace with vdb function\n",
    "def fake_vdb(\n",
    "    query: str,\n",
    "    templates: list,\n",
    "    relatedness_fn=lambda x, y: 1 - spatial.distance.cosine(x, y),\n",
    "    top_n: int = 1\n",
    "):\n",
    "    '''\"\"\"Returns a list of strings and relatednesses, sorted from most related to least.\"\"\"\n",
    "    query_embedding_response = openai.Embedding.create(\n",
    "        model=EMBEDDING_MODEL,\n",
    "        input=query,\n",
    "    )\n",
    "    query_embedding = query_embedding_response[\"data\"][0][\"embedding\"]\n",
    "    strings_and_relatednesses = [\n",
    "        (row[\"text\"], relatedness_fn(query_embedding, row[\"embedding\"]))\n",
    "        for i, row in df.iterrows()\n",
    "    ]\n",
    "    strings_and_relatednesses.sort(key=lambda x: x[1], reverse=True)\n",
    "    strings, relatednesses = zip(*strings_and_relatednesses)\n",
    "    return strings[:top_n], relatednesses[:top_n]'''\n",
    "    return templates[0]\n"
   ]
  },
  {
   "cell_type": "code",
   "execution_count": 1,
   "id": "edd9e030",
   "metadata": {},
   "outputs": [],
   "source": [
    "import re\n",
    "import os\n",
    "import chromadb\n",
    "import numpy as np\n",
    "from tqdm import tqdm\n",
    "from langchain.embeddings import SentenceTransformerEmbeddings\n",
    "from langchain.text_splitter import CharacterTextSplitter\n",
    "from langchain.vectorstores import Chroma\n",
    "from langchain.document_loaders import TextLoader\n",
    "from langchain.embeddings import OpenAIEmbeddings\n",
    "from langchain.docstore.document import Document"
   ]
  },
  {
   "cell_type": "code",
   "execution_count": 2,
   "id": "dd2ff4cb",
   "metadata": {},
   "outputs": [
    {
     "name": "stderr",
     "output_type": "stream",
     "text": [
      "c:\\Users\\ishik\\AppData\\Local\\Programs\\Python\\Python310\\lib\\site-packages\\tqdm\\auto.py:21: TqdmWarning: IProgress not found. Please update jupyter and ipywidgets. See https://ipywidgets.readthedocs.io/en/stable/user_install.html\n",
      "  from .autonotebook import tqdm as notebook_tqdm\n"
     ]
    },
    {
     "name": "stdout",
     "output_type": "stream",
     "text": [
      "Success!\n"
     ]
    }
   ],
   "source": [
    "client = chromadb.PersistentClient(path=\"./QueryPipeline/\")\n",
    "\n",
    "collection = client.get_collection(name=\"infoboxes\")\n",
    "\n",
    "langchain_chroma = Chroma(\n",
    "    client=client,\n",
    "    collection_name=\"infoboxes\",\n",
    "    embedding_function=SentenceTransformerEmbeddings(model_name=\"all-MiniLM-L6-v2\"),\n",
    ")\n",
    "print(\"Success!\")"
   ]
  },
  {
   "cell_type": "code",
   "execution_count": 3,
   "id": "919bb241",
   "metadata": {},
   "outputs": [],
   "source": [
    "def retrieve_template_from_vdb(query):\n",
    "    template = langchain_chroma.similarity_search_with_score(query)\n",
    "    return template"
   ]
  },
  {
   "cell_type": "code",
   "execution_count": 4,
   "id": "578f2ee7",
   "metadata": {},
   "outputs": [],
   "source": [
    "def retrieve_template_from_object(template):\n",
    "    template = template[0].metadata['source'] # extract the infobox template\n",
    "    template = template[template.index(\"Infobox_\"):] # remove random seo stuff\n",
    "\n",
    "    # construct template consistent with wikipedia's format\n",
    "    template = template.split(' ')\n",
    "    template_string = \"{{\" + template[0] + \"\\n\"\n",
    "    for field in template[1:]:\n",
    "        template_string += f'| {field} = \\n'\n",
    "    template_string += \"}}\"\n",
    "    return template_string"
   ]
  },
  {
   "cell_type": "code",
   "execution_count": 13,
   "id": "3c960637",
   "metadata": {},
   "outputs": [
    {
     "data": {
      "text/plain": [
       "[(Document(page_content='Infobox_algorithm', metadata={'source': 'Infobox algorithm Infobox algorithm Infobox algorithm Infobox algorithm Infobox algorithm  Infobox_algorithm name class image caption data time best-time average-time space\\n'}),\n",
       "  1.0512022972106934),\n",
       " (Document(page_content='Infobox_artificial_intelligence', metadata={'source': 'Infobox artificial intelligence Infobox artificial intelligence Infobox artificial intelligence Infobox artificial intelligence Infobox artificial intelligence  Infobox_artificial_intelligence name logo image caption developer user country introduced type purpose language derived_from replaced_by website\\n'}),\n",
       "  1.444591999053955),\n",
       " (Document(page_content='Infobox_mathematical_function', metadata={'source': 'Infobox mathematical function Infobox mathematical function Infobox mathematical function Infobox mathematical function Infobox mathematical function  Infobox_mathematical_function name image= imagesize= imagealt= parity= domain= codomain= range= period= zero= plusinf= minusinf= max= min= vr1= f1= vr2= f2= vr3= f3= vr4= f4= vr5= f5= asymptote= root= critical= inflection= fixed= notes\\n'}),\n",
       "  1.59019136428833),\n",
       " (Document(page_content='Infobox_pseudoscience', metadata={'source': 'Infobox pseudoscience Infobox pseudoscience Infobox pseudoscience Infobox pseudoscience Infobox pseudoscience  Infobox_pseudoscience name image image_upright alt caption claims topics origyear origprop currentprop notableprop\\n'}),\n",
       "  1.5907552242279053)]"
      ]
     },
     "execution_count": 13,
     "metadata": {},
     "output_type": "execute_result"
    }
   ],
   "source": [
    "# Example\n",
    "query = \"\"\"\n",
    "algorithm\n",
    "\"\"\"\n",
    "retrieve_template_from_vdb(query)"
   ]
  },
  {
   "cell_type": "markdown",
   "id": "0183b58a",
   "metadata": {},
   "source": [
    "# LLM Querying\n",
    "\n",
    "As input, we provide the raw Wikipedia text and the infobox template. As output, we receive the generated infobox."
   ]
  },
  {
   "cell_type": "code",
   "execution_count": 17,
   "id": "1f45cecc",
   "metadata": {},
   "outputs": [],
   "source": [
    "def formulate_query(\n",
    "    article: str,\n",
    "    infobox_template: str\n",
    ") -> str:\n",
    "    introduction = \"Your task is to fill out a Wikipedia infobox. Below, you are given some context text and the infobox template.\\n\"\n",
    "    question = f\"\\n\\n Context text: {article}\\n\\n Infobox Template: {infobox_template} \\n\\n\"\n",
    "    end = 'Fill out the Wikipedia infobox. Feel free to add any fields that you think would be important to know. Remember, keep the infobox concise, accurate, and of good quality.'\n",
    "    return introduction + question + end\n",
    "\n",
    "def api_call(message, model: str = GPT_MODEL):\n",
    "    messages = [\n",
    "        {\"role\": \"user\", \"content\": message},\n",
    "    ]\n",
    "    response = openai.ChatCompletion.create(\n",
    "        model=model,\n",
    "        messages=messages,\n",
    "        temperature=0\n",
    "    )\n",
    "    response_message = response[\"choices\"][0][\"message\"][\"content\"]\n",
    "    return response_message\n",
    "\n",
    "def ask(\n",
    "    article: str,\n",
    "    infobox_template: str,\n",
    "    model: str = GPT_MODEL,\n",
    "    token_budget: int = 4096 - 500,\n",
    "    print_message: bool = False,\n",
    ") -> str:\n",
    "    \"\"\"Answers a query using GPT and a dataframe of relevant texts and embeddings.\"\"\"\n",
    "    message = formulate_query(article, infobox_template)\n",
    "    if print_message:\n",
    "        print(message)\n",
    "    \n",
    "    reply = 'lol' #api_call(message, model)\n",
    "    return reply"
   ]
  },
  {
   "cell_type": "markdown",
   "id": "bfaad38f",
   "metadata": {},
   "source": [
    "# Pipeline"
   ]
  },
  {
   "cell_type": "code",
   "execution_count": 26,
   "id": "6b141d7d",
   "metadata": {},
   "outputs": [],
   "source": [
    "fake = ['mythical creature']"
   ]
  },
  {
   "cell_type": "code",
   "execution_count": 27,
   "id": "c92ea455",
   "metadata": {},
   "outputs": [],
   "source": [
    "articles = [\"\"\"\n",
    "\"\"\"]"
   ]
  },
  {
   "cell_type": "code",
   "execution_count": 28,
   "id": "221eddf4",
   "metadata": {},
   "outputs": [
    {
     "name": "stdout",
     "output_type": "stream",
     "text": [
      "(Document(page_content='Infobox_mythical_creature', metadata={'source': 'Infobox mythical creature Infobox mythical creature Infobox mythical creature Infobox mythical creature Infobox mythical creature  Infobox_mythical_creature name image image_size image_upright caption Grouping Sub_Grouping Similar_entities Family Folklore First_Attested AKA Country Region Habitat Details\\n'}), 0.5487587451934814)\n",
      "(Document(page_content='Infobox_Primeval_creature', metadata={'source': 'Infobox Primeval creature Infobox Primeval creature Infobox Primeval creature Infobox Primeval creature Infobox Primeval creature  Infobox_Primeval_creature name image species period appeared first_primeval last_primeval first_new_world last_new_world number humans_killed returned\\n'}), 1.1872961521148682)\n",
      "(Document(page_content='Infobox_monster_truck', metadata={'source': 'Infobox monster truck Infobox monster truck Infobox monster truck Infobox monster truck Infobox monster truck  Infobox_monster_truck name image image_upright alt caption owner driver home_city year_created previous number style chassis engine transmission tires\\n'}), 1.2624843120574951)\n",
      "(Document(page_content='Infobox_deity', metadata={'source': 'Infobox deity Infobox deity Infobox deity Infobox deity Infobox deity  Infobox_deity type name deity_of member_of image alt caption other_names hiero avatar_birth avatar_end Old_Norse script_name script affiliation associate cult_center cult_centre abode abodes planet world mantra mantra weapon weapons battles artifacts artefacts animals symbol symbols adherents height age tree day color colour number consort consorts parents siblings offspring children predecessor successor army mount texts gender Greek_equivalent Roman_equivalent Etruscan_equivalent Christian_equivalent Islamic_equivalent Slavic_equivalent Hinduism_equivalent Canaanite_equivalent Indo-european_equivalent Maya_equivalent Aztec_equivalent equivalent1_type equivalent1 equivalent2_type equivalent2 equivalent3_type equivalent3 equivalent4_type equivalent4 equivalent5_type equivalent5 region ethnic_group festivals nirvana\\n'}), 1.2730958461761475)\n"
     ]
    },
    {
     "name": "stdout",
     "output_type": "stream",
     "text": [
      "Your task is to fill out a Wikipedia infobox. Below, you are given some context text and the infobox template.\n",
      "\n",
      "\n",
      " Context text: \n",
      "\n",
      "\n",
      " Infobox Template: {{Infobox_mythical_creature\n",
      "| name = \n",
      "| image = \n",
      "| image_size = \n",
      "| image_upright = \n",
      "| caption = \n",
      "| Grouping = \n",
      "| Sub_Grouping = \n",
      "| Similar_entities = \n",
      "| Family = \n",
      "| Folklore = \n",
      "| First_Attested = \n",
      "| AKA = \n",
      "| Country = \n",
      "| Region = \n",
      "| Habitat = \n",
      "| Details\n",
      " = \n",
      "}} \n",
      "\n",
      "Fill out the Wikipedia infobox. Feel free to add any fields that you think would be important to know. Remember, keep the infobox concise, accurate, and of good quality.\n"
     ]
    }
   ],
   "source": [
    "for template, article in zip(fake, articles):\n",
    "    # classification\n",
    "    template = retrieve_template_from_vdb(template)\n",
    "    for t in template:\n",
    "        print(t)\n",
    "\n",
    "    num = int(input('which one?'))\n",
    "    template = retrieve_template_from_object(template[num])\n",
    "\n",
    "    # generation\n",
    "    infobox = ask(article, template, print_message=True)\n",
    "    "
   ]
  },
  {
   "cell_type": "code",
   "execution_count": null,
   "id": "81cd2c5e",
   "metadata": {},
   "outputs": [],
   "source": []
  }
 ],
 "metadata": {
  "kernelspec": {
   "display_name": "Python 3 (ipykernel)",
   "language": "python",
   "name": "python3"
  },
  "language_info": {
   "codemirror_mode": {
    "name": "ipython",
    "version": 3
   },
   "file_extension": ".py",
   "mimetype": "text/x-python",
   "name": "python",
   "nbconvert_exporter": "python",
   "pygments_lexer": "ipython3",
   "version": "3.10.7"
  },
  "vscode": {
   "interpreter": {
    "hash": "365536dcbde60510dc9073d6b991cd35db2d9bac356a11f5b64279a5e6708b97"
   }
  }
 },
 "nbformat": 4,
 "nbformat_minor": 5
}
