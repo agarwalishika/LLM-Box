{
 "cells": [
  {
   "cell_type": "code",
   "execution_count": null,
   "id": "4384ee54",
   "metadata": {},
   "outputs": [],
   "source": [
    "'''\n",
    " * Copyright 2023 LLM-Info (?????????????????????)\n",
    " *\n",
    " * Licensed under the Apache License, Version 2.0 (the \"License\");\n",
    " * you may not use this file except in compliance with the License.\n",
    " * You may obtain a copy of the License at\n",
    " *\n",
    " *    http://www.apache.org/licenses/LICENSE-2.0\n",
    " *\n",
    " * Unless required by applicable law or agreed to in writing, software\n",
    " * distributed under the License is distributed on an \"AS IS\" BASIS,\n",
    " * WITHOUT WARRANTIES OR CONDITIONS OF ANY KIND, either express or implied.\n",
    " * See the License for the specific language governing permissions and\n",
    " * limitations under the License.\n",
    " '''"
   ]
  },
  {
   "attachments": {},
   "cell_type": "markdown",
   "id": "3b0435cb",
   "metadata": {},
   "source": [
    "# Generating Consistent and High Quality Infoboxes with LLMs"
   ]
  },
  {
   "cell_type": "code",
   "execution_count": 18,
   "id": "9e3839a6-9146-4f60-b74b-19abbc24278d",
   "metadata": {},
   "outputs": [],
   "source": [
    "# imports\n",
    "import ast  # for converting embeddings saved as strings back to arrays\n",
    "import openai  # for calling the OpenAI API\n",
    "import pandas as pd  # for storing text and embeddings data\n",
    "from scipy import spatial  # for calculating vector similarities for search\n",
    "from bs4 import BeautifulSoup\n",
    "import requests\n",
    "\n",
    "# models\n",
    "EMBEDDING_MODEL = \"text-embedding-ada-002\"\n",
    "GPT_MODEL = \"gpt-3.5-turbo\"\n",
    "\n",
    "from config import *\n",
    "openai.api_key = OPENAI_API_KEY"
   ]
  },
  {
   "cell_type": "markdown",
   "id": "8a7c15f9",
   "metadata": {},
   "source": [
    "# Vector Database\n",
    "\n",
    "As input, we get raw Wikipedia text. As output, we will get the most similar infobox template.\n",
    "\n",
    "NOTE: do we want to structure the template as a bunch of fields or in proper format?"
   ]
  },
  {
   "cell_type": "code",
   "execution_count": null,
   "id": "b9a8c713-c8a9-47dc-85a4-871ee1395566",
   "metadata": {},
   "outputs": [],
   "source": [
    "# search function - replace with vdb function\n",
    "def fake_vdb(\n",
    "    query: str,\n",
    "    templates: list,\n",
    "    relatedness_fn=lambda x, y: 1 - spatial.distance.cosine(x, y),\n",
    "    top_n: int = 1\n",
    "):\n",
    "    '''\"\"\"Returns a list of strings and relatednesses, sorted from most related to least.\"\"\"\n",
    "    query_embedding_response = openai.Embedding.create(\n",
    "        model=EMBEDDING_MODEL,\n",
    "        input=query,\n",
    "    )\n",
    "    query_embedding = query_embedding_response[\"data\"][0][\"embedding\"]\n",
    "    strings_and_relatednesses = [\n",
    "        (row[\"text\"], relatedness_fn(query_embedding, row[\"embedding\"]))\n",
    "        for i, row in df.iterrows()\n",
    "    ]\n",
    "    strings_and_relatednesses.sort(key=lambda x: x[1], reverse=True)\n",
    "    strings, relatednesses = zip(*strings_and_relatednesses)\n",
    "    return strings[:top_n], relatednesses[:top_n]'''\n",
    "    return templates[0]\n"
   ]
  },
  {
   "cell_type": "code",
   "execution_count": 2,
   "id": "edd9e030",
   "metadata": {},
   "outputs": [],
   "source": [
    "import re\n",
    "import os\n",
    "import chromadb\n",
    "import numpy as np\n",
    "from tqdm import tqdm\n",
    "from langchain.embeddings import SentenceTransformerEmbeddings\n",
    "from langchain.text_splitter import CharacterTextSplitter\n",
    "from langchain.vectorstores import Chroma\n",
    "from langchain.document_loaders import TextLoader\n",
    "from langchain.embeddings import OpenAIEmbeddings\n",
    "from langchain.docstore.document import Document"
   ]
  },
  {
   "cell_type": "code",
   "execution_count": 3,
   "id": "dd2ff4cb",
   "metadata": {},
   "outputs": [
    {
     "name": "stderr",
     "output_type": "stream",
     "text": [
      "c:\\Users\\ishik\\AppData\\Local\\Programs\\Python\\Python310\\lib\\site-packages\\tqdm\\auto.py:21: TqdmWarning: IProgress not found. Please update jupyter and ipywidgets. See https://ipywidgets.readthedocs.io/en/stable/user_install.html\n",
      "  from .autonotebook import tqdm as notebook_tqdm\n"
     ]
    },
    {
     "name": "stdout",
     "output_type": "stream",
     "text": [
      "Success!\n"
     ]
    }
   ],
   "source": [
    "client = chromadb.PersistentClient(path=\"./QueryPipeline/\")\n",
    "\n",
    "collection = client.get_collection(name=\"infoboxes\")\n",
    "\n",
    "langchain_chroma = Chroma(\n",
    "    client=client,\n",
    "    collection_name=\"infoboxes\",\n",
    "    embedding_function=SentenceTransformerEmbeddings(model_name=\"all-MiniLM-L6-v2\"),\n",
    ")\n",
    "print(\"Success!\")"
   ]
  },
  {
   "cell_type": "code",
   "execution_count": 4,
   "id": "919bb241",
   "metadata": {},
   "outputs": [],
   "source": [
    "def retrieve_template_from_vdb(query):\n",
    "    template = langchain_chroma.similarity_search_with_score(query)\n",
    "    return template"
   ]
  },
  {
   "cell_type": "code",
   "execution_count": 5,
   "id": "578f2ee7",
   "metadata": {},
   "outputs": [],
   "source": [
    "def retrieve_template_from_object(template):\n",
    "    template = template[0].metadata['source'] # extract the infobox template\n",
    "    template = template[template.index(\"Infobox_\"):] # remove random seo stuff\n",
    "\n",
    "    # construct template consistent with wikipedia's format\n",
    "    template = template.split(' ')\n",
    "    template_string = \"{{\" + template[0] + \"\\n\"\n",
    "    for field in template[1:]:\n",
    "        template_string += f'| {field} = \\n'\n",
    "    template_string += \"}}\"\n",
    "    return template_string"
   ]
  },
  {
   "cell_type": "code",
   "execution_count": 15,
   "id": "3c960637",
   "metadata": {},
   "outputs": [
    {
     "data": {
      "text/plain": [
       "[(Document(page_content='Infobox_comics_character', metadata={'source': 'Infobox comics character Infobox comics character Infobox comics character Infobox comics character Infobox comics character  Infobox_comics_character character_name image imagesize image_size alt caption publisher debut creators voiced_by first_series first_episode first_comic real_name alter alter_ego full_name full species homeworld alliances affiliations supports aliases powers partners IOM_alter_ego IOM_full_name IOM_alliances IOM_partners IOM_aliases IOM_powers sortkey subcat cat hero villain altcat addcharcat1 addcharcat2 addcharcat3 addcharcat4 addcharcat5 addcharcat6 noimage converted\\n'}),\n",
       "  0.9493862390518188),\n",
       " (Document(page_content='Infobox_comics_character_and_title', metadata={'source': 'Infobox comics character and title Infobox comics character and title Infobox comics character and title Infobox comics character and title Infobox comics character and title  Infobox_comics_character_and_title character_name image imagesize caption publisher debut creators alter_ego full_name species homeworld alliances partners supports aliases powers title cvr_image cvr_caption cvr_alt schedule format limited ongoing 1shot genre pub_series date 1stishhead 1stishyr 1stishmo endishyr endishmo 1stishhead# 1stishyr# 1stishmo# endishyr# endishmo# issues main_char_team writers artists pencillers inkers letterers colorists editors creative_team_month creative_team_year creators_series CEheader TPB ISBN nonUS cat subcat altcat hero villain sortkey\\n'}),\n",
       "  1.0933074951171875),\n",
       " (Document(page_content='Infobox_character', metadata={'source': 'Infobox character Infobox character Infobox character Infobox character Infobox character  Infobox_character name series franchise=; image alt caption first_major first_minor first_issue=; first_date first last_major last_minor last_issue= last_date last creator based_on character author\\n'}),\n",
       "  1.1993522644042969),\n",
       " (Document(page_content='Infobox_horseracing_personality', metadata={'source': 'Infobox horseracing personality Infobox horseracing personality Infobox horseracing personality Infobox horseracing personality Infobox horseracing personality  Infobox_horseracing_personality honorific_prefix name honorific_suffix image image_size image_upright alt caption native_name native_name_lang full_name other_names nickname occupation birth_date YYYY MM DD df=y\\n'}),\n",
       "  1.2485647201538086)]"
      ]
     },
     "execution_count": 15,
     "metadata": {},
     "output_type": "execute_result"
    }
   ],
   "source": [
    "# Example\n",
    "query = \"\"\" taxobox taxobox\n",
    "The Rhacophoridae are a family of frogs that occur in tropical sub-Saharan Africa, South India and Sri Lanka, Japan, northeastern India to eastern China and Taiwan, south through the Philippines and Greater Sundas, and Sulawesi. They are commonly known as shrub frogs, or more ambiguously as \"moss frogs\" or \"bush frogs\". Some Rhacophoridae are called \"tree frogs\". Among the most spectacular members of this family are numerous \"flying frogs\".\n",
    "\n",
    "Although a few groups are primarily terrestrial, rhacophorids are predominantly arboreal treefrogs. Mating frogs, while in amplexus, hold on to a branch, and beat their legs to form a foam. The eggs are laid in the foam and covered with seminal fluid before the foam hardens into a protective casing. In some species, this is done in a large group. The foam is laid above a water source so the tadpoles fall into the water once they hatch.[1]\n",
    "\n",
    "The species within this family vary in size from 1.5 to 12 cm (0.59 to 4.72 in).[1] Like other arboreal frogs, they have toe discs, and those of the genus Chiromantis have two opposable fingers on each hand. This family also contains the Old World flying frogs, including Wallace's flying frog (Rhacophorus nigropalmatus). These frogs have extensive webbing between their fore and hind limbs, allowing them to glide through the air.[2]\n",
    "\n",
    "Taxonomy\n",
    "Evolution\n",
    "The Rhacophoridae are the sister group to the Mantellidae, a family of frogs restricted to Madagascar. Both families are thought to have diverged during the Paleocene, although previous studies estimated a Cretaceous divergence. Two different hypotheses for this divergence have been proposed: one that the Mantellidae and Rhacophoridae diverged when Insular India broke from Madagascar, with the Rhacophoridae colonizing the rest of Asia following the collision of India with Asia, and the other proposing that the common ancestors of both families inhabited Asia, with the ancestral Mantellidae colonizing Madagascar from India via long-distance dispersal, using India as a stepping stone.[3][4]\n",
    "\"\"\"\n",
    "query = 'character'\n",
    "retrieve_template_from_vdb(query)"
   ]
  },
  {
   "cell_type": "markdown",
   "id": "0183b58a",
   "metadata": {},
   "source": [
    "# LLM Querying\n",
    "\n",
    "As input, we provide the raw Wikipedia text and the infobox template. As output, we receive the generated infobox."
   ]
  },
  {
   "cell_type": "code",
   "execution_count": 17,
   "id": "1f45cecc",
   "metadata": {},
   "outputs": [],
   "source": [
    "def formulate_query(\n",
    "    article: str,\n",
    "    infobox_template: str\n",
    ") -> str:\n",
    "    introduction = \"Your task is to fill out a Wikipedia infobox. Below, you are given some context text and the infobox template.\\n\"\n",
    "    question = f\"\\n\\n Context text: {article}\\n\\n Infobox Template: {infobox_template} \\n\\n\"\n",
    "    end = 'Fill out the Wikipedia infobox. Feel free to add any fields that you think would be important to know. Remember, keep the infobox concise, accurate, and of good quality.'\n",
    "    return introduction + question + end\n",
    "\n",
    "def api_call(message, model: str = GPT_MODEL):\n",
    "    messages = [\n",
    "        {\"role\": \"user\", \"content\": message},\n",
    "    ]\n",
    "    response = openai.ChatCompletion.create(\n",
    "        model=model,\n",
    "        messages=messages,\n",
    "        temperature=0\n",
    "    )\n",
    "    response_message = response[\"choices\"][0][\"message\"][\"content\"]\n",
    "    return response_message\n",
    "\n",
    "def ask(\n",
    "    article: str,\n",
    "    infobox_template: str,\n",
    "    model: str = GPT_MODEL,\n",
    "    token_budget: int = 4096 - 500,\n",
    "    print_message: bool = False,\n",
    ") -> str:\n",
    "    \"\"\"Answers a query using GPT and a dataframe of relevant texts and embeddings.\"\"\"\n",
    "    message = formulate_query(article, infobox_template)\n",
    "    if print_message:\n",
    "        print(message)\n",
    "    \n",
    "    reply = 'lol' #api_call(message, model)\n",
    "    return reply"
   ]
  },
  {
   "cell_type": "markdown",
   "id": "bfaad38f",
   "metadata": {},
   "source": [
    "# Pipeline"
   ]
  },
  {
   "cell_type": "code",
   "execution_count": 55,
   "id": "24895052",
   "metadata": {},
   "outputs": [],
   "source": [
    "link = 'https://en.wikipedia.org/wiki/Special:WhatLinksHere?target=Template%3AInfobox+comics+character&namespace='\n",
    "page = requests.get(link).text\n",
    "soup = BeautifulSoup(page, 'html.parser')"
   ]
  },
  {
   "cell_type": "code",
   "execution_count": 71,
   "id": "d46dce15",
   "metadata": {},
   "outputs": [
    {
     "name": "stdout",
     "output_type": "stream",
     "text": [
      "None\n"
     ]
    }
   ],
   "source": [
    "links = []\n",
    "start = False\n",
    "for s in soup.find_all('a'):\n",
    "    temp = s.get('href')\n",
    "    try:\n",
    "        if start and 'limit=50&dir=next' in temp:\n",
    "            break\n",
    "        elif start:\n",
    "            links.append(temp)\n",
    "        elif '&limit=500' in temp:\n",
    "            start = True\n",
    "    except:\n",
    "        print(temp)"
   ]
  },
  {
   "cell_type": "code",
   "execution_count": 66,
   "id": "1a20440d",
   "metadata": {},
   "outputs": [
    {
     "data": {
      "text/plain": [
       "['#bodyContent',\n",
       " '/wiki/Main_Page',\n",
       " '/wiki/Wikipedia:Contents',\n",
       " '/wiki/Portal:Current_events',\n",
       " '/wiki/Special:Random',\n",
       " '/wiki/Wikipedia:About',\n",
       " '//en.wikipedia.org/wiki/Wikipedia:Contact_us',\n",
       " 'https://donate.wikimedia.org/wiki/Special:FundraiserRedirector?utm_source=donate&utm_medium=sidebar&utm_campaign=C13_en.wikipedia.org&uselang=en',\n",
       " '/wiki/Help:Contents',\n",
       " '/wiki/Help:Introduction',\n",
       " '/wiki/Wikipedia:Community_portal',\n",
       " '/wiki/Special:RecentChanges',\n",
       " '/wiki/Wikipedia:File_upload_wizard',\n",
       " '/wiki/Main_Page',\n",
       " '/wiki/Special:Search',\n",
       " '/w/index.php?title=Special:CreateAccount&returnto=Special%3AWhatLinksHere&returntoquery=namespace%3D%26target%3DTemplate%253AInfobox%2Bcomics%2Bcharacter',\n",
       " '/w/index.php?title=Special:UserLogin&returnto=Special%3AWhatLinksHere&returntoquery=namespace%3D%26target%3DTemplate%253AInfobox%2Bcomics%2Bcharacter',\n",
       " '/w/index.php?title=Special:CreateAccount&returnto=Special%3AWhatLinksHere&returntoquery=namespace%3D%26target%3DTemplate%253AInfobox%2Bcomics%2Bcharacter',\n",
       " '/w/index.php?title=Special:UserLogin&returnto=Special%3AWhatLinksHere&returntoquery=namespace%3D%26target%3DTemplate%253AInfobox%2Bcomics%2Bcharacter',\n",
       " '/wiki/Help:Introduction',\n",
       " '/wiki/Special:MyContributions',\n",
       " '/wiki/Special:MyTalk',\n",
       " '/wiki/Help:What_links_here',\n",
       " '/wiki/Template:Infobox_comics_character',\n",
       " '/wiki/Template_talk:Infobox_comics_character',\n",
       " '/wiki/Template:Infobox_comics_character',\n",
       " '/w/index.php?title=Template:Infobox_comics_character&action=edit',\n",
       " '/w/index.php?title=Template:Infobox_comics_character&action=history',\n",
       " '/wiki/Template:Infobox_comics_character',\n",
       " '/w/index.php?title=Template:Infobox_comics_character&action=edit',\n",
       " '/w/index.php?title=Template:Infobox_comics_character&action=history',\n",
       " '/wiki/Wikipedia:File_Upload_Wizard',\n",
       " '/wiki/Special:SpecialPages',\n",
       " 'javascript:print();',\n",
       " '/w/index.php?title=Special:UrlShortener&url=https%3A%2F%2Fen.wikipedia.org%2Fw%2Findex.php%3Ftitle%3DSpecial%3AWhatLinksHere%26namespace%3D%26target%3DTemplate%253AInfobox%2Bcomics%2Bcharacter',\n",
       " '/wiki/Template:Infobox_comics_character',\n",
       " None,\n",
       " '/wiki/Template:Infobox_comics_character',\n",
       " 'https://linkcount.toolforge.org/?project=en.wikipedia.org&page=Template%3AInfobox+comics+character',\n",
       " 'https://templatecount.toolforge.org/index.php?lang=en&namespace=10&name=Infobox_comics_character',\n",
       " 'https://wlh.toolforge.org/pages/Infobox_comics_character?ns=10',\n",
       " '/w/index.php?title=Special:WhatLinksHere/Template:Infobox_comics_character&limit=50&dir=next&offset=0%7C149831',\n",
       " '/w/index.php?title=Special:WhatLinksHere/Template:Infobox_comics_character&limit=20',\n",
       " '/w/index.php?title=Special:WhatLinksHere/Template:Infobox_comics_character&limit=100',\n",
       " '/w/index.php?title=Special:WhatLinksHere/Template:Infobox_comics_character&limit=250',\n",
       " '/w/index.php?title=Special:WhatLinksHere/Template:Infobox_comics_character&limit=500',\n",
       " '/wiki/Barb_Wire_(character)',\n",
       " '/w/index.php?title=Special:WhatLinksHere&target=Barb+Wire+%28character%29',\n",
       " '/w/index.php?title=Barb_Wire_(character)&action=edit',\n",
       " '/wiki/Batman',\n",
       " '/w/index.php?title=Special:WhatLinksHere&target=Batman',\n",
       " '/w/index.php?title=Batman&action=edit',\n",
       " '/wiki/Captain_America',\n",
       " '/w/index.php?title=Special:WhatLinksHere&target=Captain+America',\n",
       " '/w/index.php?title=Captain_America&action=edit',\n",
       " '/wiki/Professor_X',\n",
       " '/w/index.php?title=Special:WhatLinksHere&target=Professor+X',\n",
       " '/w/index.php?title=Professor_X&action=edit',\n",
       " '/wiki/Galactus',\n",
       " '/w/index.php?title=Special:WhatLinksHere&target=Galactus',\n",
       " '/w/index.php?title=Galactus&action=edit',\n",
       " '/wiki/Iceman_(Marvel_Comics)',\n",
       " '/w/index.php?title=Special:WhatLinksHere&target=Iceman+%28Marvel+Comics%29',\n",
       " '/w/index.php?title=Iceman_(Marvel_Comics)&action=edit',\n",
       " '/wiki/Jean_Grey',\n",
       " '/w/index.php?title=Special:WhatLinksHere&target=Jean+Grey',\n",
       " '/w/index.php?title=Jean_Grey&action=edit',\n",
       " '/wiki/Judge_Dredd',\n",
       " '/w/index.php?title=Special:WhatLinksHere&target=Judge+Dredd',\n",
       " '/w/index.php?title=Judge_Dredd&action=edit',\n",
       " '/wiki/Lois_Lane',\n",
       " '/w/index.php?title=Special:WhatLinksHere&target=Lois+Lane',\n",
       " '/w/index.php?title=Lois_Lane&action=edit',\n",
       " '/wiki/Lex_Luthor',\n",
       " '/w/index.php?title=Special:WhatLinksHere&target=Lex+Luthor',\n",
       " '/w/index.php?title=Lex_Luthor&action=edit',\n",
       " '/wiki/Shang-Chi',\n",
       " '/w/index.php?title=Special:WhatLinksHere&target=Shang-Chi',\n",
       " '/w/index.php?title=Shang-Chi&action=edit',\n",
       " '/wiki/Obelix',\n",
       " '/w/index.php?title=Special:WhatLinksHere&target=Obelix',\n",
       " '/w/index.php?title=Obelix&action=edit',\n",
       " '/wiki/Rachel_Summers',\n",
       " '/w/index.php?title=Special:WhatLinksHere&target=Rachel+Summers',\n",
       " '/w/index.php?title=Rachel_Summers&action=edit',\n",
       " '/wiki/Spider-Man',\n",
       " '/w/index.php?title=Special:WhatLinksHere&target=Spider-Man',\n",
       " '/w/index.php?title=Spider-Man&action=edit',\n",
       " '/wiki/Superman',\n",
       " '/w/index.php?title=Special:WhatLinksHere&target=Superman',\n",
       " '/w/index.php?title=Superman&action=edit',\n",
       " '/wiki/Spawn_(character)',\n",
       " '/w/index.php?title=Special:WhatLinksHere&target=Spawn+%28character%29',\n",
       " '/w/index.php?title=Spawn_(character)&action=edit',\n",
       " '/wiki/The_Yellow_Kid',\n",
       " '/w/index.php?title=Special:WhatLinksHere&target=The+Yellow+Kid',\n",
       " '/w/index.php?title=The_Yellow_Kid&action=edit',\n",
       " '/wiki/Hulk',\n",
       " '/w/index.php?title=Special:WhatLinksHere&target=Hulk',\n",
       " '/w/index.php?title=Hulk&action=edit',\n",
       " '/wiki/Champion_of_the_Universe',\n",
       " '/w/index.php?title=Special:WhatLinksHere&target=Champion+of+the+Universe',\n",
       " '/w/index.php?title=Champion_of_the_Universe&action=edit',\n",
       " '/wiki/Beyonder',\n",
       " '/w/index.php?title=Special:WhatLinksHere&target=Beyonder',\n",
       " '/w/index.php?title=Beyonder&action=edit',\n",
       " '/wiki/Zippy_the_Pinhead',\n",
       " '/w/index.php?title=Special:WhatLinksHere&target=Zippy+the+Pinhead',\n",
       " '/w/index.php?title=Zippy_the_Pinhead&action=edit',\n",
       " '/wiki/Flash_Gordon',\n",
       " '/w/index.php?title=Special:WhatLinksHere&target=Flash+Gordon',\n",
       " '/w/index.php?title=Flash_Gordon&action=edit',\n",
       " '/wiki/Firestar_(Marvel_Comics_character)',\n",
       " '/w/index.php?title=Special:WhatLinksHere&target=Firestar+%28Marvel+Comics+character%29',\n",
       " '/w/index.php?title=Firestar_(Marvel_Comics_character)&action=edit',\n",
       " '/wiki/Doctor_Doom',\n",
       " '/w/index.php?title=Special:WhatLinksHere&target=Doctor+Doom',\n",
       " '/w/index.php?title=Doctor_Doom&action=edit',\n",
       " '/wiki/Phoenix_Force_(comics)',\n",
       " '/w/index.php?title=Special:WhatLinksHere&target=Phoenix+Force+%28comics%29',\n",
       " '/w/index.php?title=Phoenix_Force_(comics)&action=edit',\n",
       " '/wiki/Northstar_(character)',\n",
       " '/w/index.php?title=Special:WhatLinksHere&target=Northstar+%28character%29',\n",
       " '/w/index.php?title=Northstar_(character)&action=edit',\n",
       " '/wiki/Iron_Man',\n",
       " '/w/index.php?title=Special:WhatLinksHere&target=Iron+Man',\n",
       " '/w/index.php?title=Iron_Man&action=edit',\n",
       " '/wiki/Goofy',\n",
       " '/w/index.php?title=Special:WhatLinksHere&target=Goofy',\n",
       " '/w/index.php?title=Goofy&action=edit',\n",
       " '/wiki/Green_Arrow',\n",
       " '/w/index.php?title=Special:WhatLinksHere&target=Green+Arrow',\n",
       " '/w/index.php?title=Green_Arrow&action=edit',\n",
       " '/wiki/Poison_Ivy_(character)',\n",
       " '/w/index.php?title=Special:WhatLinksHere&target=Poison+Ivy+%28character%29',\n",
       " '/w/index.php?title=Poison_Ivy_(character)&action=edit',\n",
       " '/wiki/Ben_Grimm',\n",
       " '/w/index.php?title=Special:WhatLinksHere&target=Ben+Grimm',\n",
       " '/w/index.php?title=Ben_Grimm&action=edit',\n",
       " '/wiki/Cyclops_(Marvel_Comics)',\n",
       " '/w/index.php?title=Special:WhatLinksHere&target=Cyclops+%28Marvel+Comics%29',\n",
       " '/w/index.php?title=Cyclops_(Marvel_Comics)&action=edit',\n",
       " '/wiki/Death_of_the_Endless',\n",
       " '/w/index.php?title=Special:WhatLinksHere&target=Death+of+the+Endless',\n",
       " '/w/index.php?title=Death_of_the_Endless&action=edit',\n",
       " '/wiki/Dream_(character)',\n",
       " '/w/index.php?title=Special:WhatLinksHere&target=Dream+%28character%29',\n",
       " '/w/index.php?title=Dream_(character)&action=edit',\n",
       " '/wiki/Corinthian_(comics)',\n",
       " '/w/index.php?title=Special:WhatLinksHere&target=Corinthian+%28comics%29',\n",
       " '/w/index.php?title=Corinthian_(comics)&action=edit',\n",
       " '/wiki/Lucifer_(Marvel_Comics)',\n",
       " '/w/index.php?title=Special:WhatLinksHere&target=Lucifer+%28Marvel+Comics%29',\n",
       " '/w/index.php?title=Lucifer_(Marvel_Comics)&action=edit',\n",
       " '/wiki/Joker_(character)',\n",
       " '/w/index.php?title=Special:WhatLinksHere&target=Joker+%28character%29',\n",
       " '/w/index.php?title=Joker_(character)&action=edit',\n",
       " '/wiki/Red_Skull',\n",
       " '/w/index.php?title=Special:WhatLinksHere&target=Red+Skull',\n",
       " '/w/index.php?title=Red_Skull&action=edit',\n",
       " '/wiki/Zonker_Harris',\n",
       " '/w/index.php?title=Special:WhatLinksHere&target=Zonker+Harris',\n",
       " '/w/index.php?title=Zonker_Harris&action=edit',\n",
       " '/wiki/Doc_Savage',\n",
       " '/w/index.php?title=Special:WhatLinksHere&target=Doc+Savage',\n",
       " '/w/index.php?title=Doc_Savage&action=edit',\n",
       " '/wiki/Shazam_(wizard)',\n",
       " '/w/index.php?title=Special:WhatLinksHere&target=Shazam+%28wizard%29',\n",
       " '/w/index.php?title=Shazam_(wizard)&action=edit',\n",
       " '/wiki/Streaky_the_Supercat',\n",
       " '/w/index.php?title=Special:WhatLinksHere&target=Streaky+the+Supercat',\n",
       " '/w/index.php?title=Streaky_the_Supercat&action=edit',\n",
       " '/wiki/Wonder_Woman',\n",
       " '/w/index.php?title=Special:WhatLinksHere&target=Wonder+Woman',\n",
       " '/w/index.php?title=Wonder_Woman&action=edit',\n",
       " '/wiki/Lone_Ranger',\n",
       " '/w/index.php?title=Special:WhatLinksHere&target=Lone+Ranger',\n",
       " '/w/index.php?title=Lone_Ranger&action=edit',\n",
       " '/wiki/The_Shadow',\n",
       " '/w/index.php?title=Special:WhatLinksHere&target=The+Shadow',\n",
       " '/w/index.php?title=The_Shadow&action=edit',\n",
       " '/wiki/J._Jonah_Jameson',\n",
       " '/w/index.php?title=Special:WhatLinksHere&target=J.+Jonah+Jameson',\n",
       " '/w/index.php?title=J._Jonah_Jameson&action=edit',\n",
       " '/wiki/Aunt_May',\n",
       " '/w/index.php?title=Special:WhatLinksHere&target=Aunt+May',\n",
       " '/w/index.php?title=Aunt_May&action=edit',\n",
       " '/wiki/Gwen_Stacy',\n",
       " '/w/index.php?title=Special:WhatLinksHere&target=Gwen+Stacy',\n",
       " '/w/index.php?title=Gwen_Stacy&action=edit',\n",
       " '/wiki/Uncle_Ben',\n",
       " '/w/index.php?title=Special:WhatLinksHere&target=Uncle+Ben',\n",
       " '/w/index.php?title=Uncle_Ben&action=edit',\n",
       " '/wiki/Red_Sonja',\n",
       " '/w/index.php?title=Special:WhatLinksHere&target=Red+Sonja',\n",
       " '/w/index.php?title=Red_Sonja&action=edit',\n",
       " '/w/index.php?title=Special:WhatLinksHere/Template:Infobox_comics_character&limit=50&dir=next&offset=0%7C149831',\n",
       " '/w/index.php?title=Special:WhatLinksHere/Template:Infobox_comics_character&limit=20',\n",
       " '/w/index.php?title=Special:WhatLinksHere/Template:Infobox_comics_character&limit=100',\n",
       " '/w/index.php?title=Special:WhatLinksHere/Template:Infobox_comics_character&limit=250',\n",
       " '/w/index.php?title=Special:WhatLinksHere/Template:Infobox_comics_character&limit=500',\n",
       " 'https://en.wikipedia.org/wiki/Special:WhatLinksHere',\n",
       " 'https://foundation.wikimedia.org/wiki/Special:MyLanguage/Policy:Privacy_policy',\n",
       " '/wiki/Wikipedia:About',\n",
       " '/wiki/Wikipedia:General_disclaimer',\n",
       " '//en.wikipedia.org/wiki/Wikipedia:Contact_us',\n",
       " 'https://foundation.wikimedia.org/wiki/Special:MyLanguage/Universal_Code_of_Conduct',\n",
       " 'https://developer.wikimedia.org',\n",
       " 'https://stats.wikimedia.org/#/en.wikipedia.org',\n",
       " 'https://foundation.wikimedia.org/wiki/Special:MyLanguage/Policy:Cookie_statement',\n",
       " '//en.m.wikipedia.org/w/index.php?title=Special:WhatLinksHere&namespace=&target=Template%3AInfobox+comics+character&mobileaction=toggle_view_mobile',\n",
       " 'https://wikimediafoundation.org/',\n",
       " 'https://www.mediawiki.org/']"
      ]
     },
     "execution_count": 66,
     "metadata": {},
     "output_type": "execute_result"
    }
   ],
   "source": [
    "links"
   ]
  },
  {
   "cell_type": "code",
   "execution_count": 57,
   "id": "3e8d687d",
   "metadata": {},
   "outputs": [],
   "source": [
    "soup.get('href')"
   ]
  },
  {
   "cell_type": "code",
   "execution_count": 26,
   "id": "6b141d7d",
   "metadata": {},
   "outputs": [],
   "source": [
    "fake = ['mythical creature']"
   ]
  },
  {
   "cell_type": "code",
   "execution_count": 27,
   "id": "c92ea455",
   "metadata": {},
   "outputs": [],
   "source": [
    "articles = [\"\"\"\n",
    "\"\"\"]"
   ]
  },
  {
   "cell_type": "code",
   "execution_count": 28,
   "id": "221eddf4",
   "metadata": {},
   "outputs": [
    {
     "name": "stdout",
     "output_type": "stream",
     "text": [
      "(Document(page_content='Infobox_mythical_creature', metadata={'source': 'Infobox mythical creature Infobox mythical creature Infobox mythical creature Infobox mythical creature Infobox mythical creature  Infobox_mythical_creature name image image_size image_upright caption Grouping Sub_Grouping Similar_entities Family Folklore First_Attested AKA Country Region Habitat Details\\n'}), 0.5487587451934814)\n",
      "(Document(page_content='Infobox_Primeval_creature', metadata={'source': 'Infobox Primeval creature Infobox Primeval creature Infobox Primeval creature Infobox Primeval creature Infobox Primeval creature  Infobox_Primeval_creature name image species period appeared first_primeval last_primeval first_new_world last_new_world number humans_killed returned\\n'}), 1.1872961521148682)\n",
      "(Document(page_content='Infobox_monster_truck', metadata={'source': 'Infobox monster truck Infobox monster truck Infobox monster truck Infobox monster truck Infobox monster truck  Infobox_monster_truck name image image_upright alt caption owner driver home_city year_created previous number style chassis engine transmission tires\\n'}), 1.2624843120574951)\n",
      "(Document(page_content='Infobox_deity', metadata={'source': 'Infobox deity Infobox deity Infobox deity Infobox deity Infobox deity  Infobox_deity type name deity_of member_of image alt caption other_names hiero avatar_birth avatar_end Old_Norse script_name script affiliation associate cult_center cult_centre abode abodes planet world mantra mantra weapon weapons battles artifacts artefacts animals symbol symbols adherents height age tree day color colour number consort consorts parents siblings offspring children predecessor successor army mount texts gender Greek_equivalent Roman_equivalent Etruscan_equivalent Christian_equivalent Islamic_equivalent Slavic_equivalent Hinduism_equivalent Canaanite_equivalent Indo-european_equivalent Maya_equivalent Aztec_equivalent equivalent1_type equivalent1 equivalent2_type equivalent2 equivalent3_type equivalent3 equivalent4_type equivalent4 equivalent5_type equivalent5 region ethnic_group festivals nirvana\\n'}), 1.2730958461761475)\n"
     ]
    },
    {
     "name": "stdout",
     "output_type": "stream",
     "text": [
      "Your task is to fill out a Wikipedia infobox. Below, you are given some context text and the infobox template.\n",
      "\n",
      "\n",
      " Context text: \n",
      "\n",
      "\n",
      " Infobox Template: {{Infobox_mythical_creature\n",
      "| name = \n",
      "| image = \n",
      "| image_size = \n",
      "| image_upright = \n",
      "| caption = \n",
      "| Grouping = \n",
      "| Sub_Grouping = \n",
      "| Similar_entities = \n",
      "| Family = \n",
      "| Folklore = \n",
      "| First_Attested = \n",
      "| AKA = \n",
      "| Country = \n",
      "| Region = \n",
      "| Habitat = \n",
      "| Details\n",
      " = \n",
      "}} \n",
      "\n",
      "Fill out the Wikipedia infobox. Feel free to add any fields that you think would be important to know. Remember, keep the infobox concise, accurate, and of good quality.\n"
     ]
    }
   ],
   "source": [
    "for template, article in zip(fake, articles):\n",
    "    # classification\n",
    "    template = retrieve_template_from_vdb(template)\n",
    "    for t in template:\n",
    "        print(t)\n",
    "\n",
    "    num = int(input('which one?'))\n",
    "    template = retrieve_template_from_object(template[num])\n",
    "\n",
    "    # generation\n",
    "    infobox = ask(article, template, print_message=True)\n",
    "    "
   ]
  },
  {
   "cell_type": "code",
   "execution_count": null,
   "id": "81cd2c5e",
   "metadata": {},
   "outputs": [],
   "source": []
  }
 ],
 "metadata": {
  "kernelspec": {
   "display_name": "Python 3 (ipykernel)",
   "language": "python",
   "name": "python3"
  },
  "language_info": {
   "codemirror_mode": {
    "name": "ipython",
    "version": 3
   },
   "file_extension": ".py",
   "mimetype": "text/x-python",
   "name": "python",
   "nbconvert_exporter": "python",
   "pygments_lexer": "ipython3",
   "version": "3.10.7"
  },
  "vscode": {
   "interpreter": {
    "hash": "365536dcbde60510dc9073d6b991cd35db2d9bac356a11f5b64279a5e6708b97"
   }
  }
 },
 "nbformat": 4,
 "nbformat_minor": 5
}
