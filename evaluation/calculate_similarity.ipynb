{
 "cells": [
  {
   "cell_type": "code",
   "execution_count": 1,
   "metadata": {},
   "outputs": [],
   "source": [
    "from rouge_score import rouge_scorer\n",
    "import os"
   ]
  },
  {
   "cell_type": "markdown",
   "metadata": {},
   "source": [
    "# Data Preprocessing"
   ]
  },
  {
   "cell_type": "code",
   "execution_count": 2,
   "metadata": {},
   "outputs": [],
   "source": [
    "files = os.listdir('generated_infoboxes/ground_truth/')\n",
    "ground_truth = []\n",
    "for fname in files:\n",
    "    try:\n",
    "        with open(f'generated_infoboxes/ground_truth/{fname}', 'r') as f:\n",
    "            ground_truth.append(f.read().replace('\\n', ''))\n",
    "    except:\n",
    "        print(fname)"
   ]
  },
  {
   "cell_type": "code",
   "execution_count": 3,
   "metadata": {},
   "outputs": [],
   "source": [
    "files = os.listdir('generated_infoboxes/llm_box/')\n",
    "llm_box = []\n",
    "for fname in files:\n",
    "    with open(f'generated_infoboxes/llm_box/{fname}', 'r') as f:\n",
    "        llm_box.append(f.read().replace('\\n', ''))"
   ]
  },
  {
   "cell_type": "markdown",
   "metadata": {},
   "source": [
    "# ROUGE"
   ]
  },
  {
   "cell_type": "code",
   "execution_count": 4,
   "metadata": {},
   "outputs": [],
   "source": [
    "scorer = rouge_scorer.RougeScorer(['rouge1', 'rougeL'], use_stemmer=True)\n",
    "\n",
    "r_scores = []\n",
    "rl_scores = []\n",
    "for pred, actual in zip(llm_box, ground_truth):\n",
    "    temp = scorer.score(pred, actual)\n",
    "    r_scores.append(temp['rouge1'])\n",
    "    rl_scores.append(temp['rougeL'])"
   ]
  },
  {
   "cell_type": "code",
   "execution_count": 5,
   "metadata": {},
   "outputs": [],
   "source": [
    "def average_sim_scores(rouge_scores):\n",
    "    sim = [0, 0, 0]\n",
    "    for score in rouge_scores:\n",
    "        for i in [0, 1, 2]:\n",
    "            sim[i] += score[i]\n",
    "\n",
    "    for i in [0, 1, 2]:\n",
    "        sim[i] /= len(r_scores)\n",
    "    print(sim)"
   ]
  },
  {
   "cell_type": "code",
   "execution_count": 6,
   "metadata": {},
   "outputs": [
    {
     "name": "stdout",
     "output_type": "stream",
     "text": [
      "[0.40055996555156853, 0.349990050106636, 0.3332918020273025]\n",
      "[0.30844878667815584, 0.27012376749571926, 0.25797379320689223]\n"
     ]
    }
   ],
   "source": [
    "average_sim_scores(r_scores)\n",
    "average_sim_scores(rl_scores)"
   ]
  }
 ],
 "metadata": {
  "kernelspec": {
   "display_name": "Python 3",
   "language": "python",
   "name": "python3"
  },
  "language_info": {
   "codemirror_mode": {
    "name": "ipython",
    "version": 3
   },
   "file_extension": ".py",
   "mimetype": "text/x-python",
   "name": "python",
   "nbconvert_exporter": "python",
   "pygments_lexer": "ipython3",
   "version": "3.10.7"
  }
 },
 "nbformat": 4,
 "nbformat_minor": 2
}
