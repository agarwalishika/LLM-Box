{
 "cells": [
  {
   "cell_type": "markdown",
   "metadata": {},
   "source": [
    "# Inference Demo\n",
    "Assumes you have run the `parse_articles_to_vdb.py` file to generate a vector database in the `./chroma_db/` directory"
   ]
  },
  {
   "cell_type": "markdown",
   "metadata": {},
   "source": [
    "## Imports"
   ]
  },
  {
   "cell_type": "code",
   "execution_count": 7,
   "metadata": {},
   "outputs": [],
   "source": [
    "from langchain.vectorstores import Chroma\n",
    "from langchain.embeddings import SentenceTransformerEmbeddings\n",
    "import wikipedia"
   ]
  },
  {
   "cell_type": "markdown",
   "metadata": {},
   "source": [
    "## Helper functions"
   ]
  },
  {
   "cell_type": "code",
   "execution_count": 28,
   "metadata": {},
   "outputs": [],
   "source": [
    "def scrape_article_from_link(link):\n",
    "\n",
    "    # Set the language for the Wikipedia you want to access (e.g., 'en' for English)\n",
    "    wikipedia.set_lang(\"en\")\n",
    "\n",
    "    # Replace 'Your_Article_Title' with the title of the Wikipedia article you want to access\n",
    "    article_title = link.split('/')[-1]\n",
    "\n",
    "    try:\n",
    "        # Fetch the page for the given article title\n",
    "        page = wikipedia.page(article_title)\n",
    "\n",
    "        # Print the title of the article\n",
    "        return f\"Title: {page.title} \\n Content: {page.content}\"\n",
    "    except:\n",
    "        return -1"
   ]
  },
  {
   "cell_type": "markdown",
   "metadata": {},
   "source": [
    "## Load the Chroma vector db and run a sample query"
   ]
  },
  {
   "cell_type": "code",
   "execution_count": 29,
   "metadata": {},
   "outputs": [],
   "source": [
    "embedding_function = SentenceTransformerEmbeddings(model_name=\"all-MiniLM-L6-v2\")\n",
    "\n",
    "query = scrape_article_from_link(\"/wiki/The_Robots_of_Death\")"
   ]
  },
  {
   "cell_type": "code",
   "execution_count": 25,
   "metadata": {},
   "outputs": [
    {
     "name": "stdout",
     "output_type": "stream",
     "text": [
      "{'schema': 'Infobox_Doctor_Who_episode number serial_name show quotes type type image caption image_size alt doctor doctors companion companions cast doctor guests director writer based_on'}\n",
      "{'schema': 'Infobox_Doctor_Who_episode number serial_name show quotes type type image caption image_size alt doctor doctors companion companions cast doctor guests director writer based_on'}\n",
      "{'schema': 'Infobox_Doctor_Who_episode number serial_name show quotes type type image caption image_size alt doctor doctors companion companions cast doctor guests director writer based_on'}\n",
      "{'schema': 'Infobox_Doctor_Who_episode number serial_name show quotes type type image caption image_size alt doctor doctors companion companions cast doctor guests director writer based_on'}\n"
     ]
    }
   ],
   "source": [
    "db3 = Chroma(persist_directory=\"./chroma_db\", embedding_function=embedding_function)\n",
    "docs = db3.similarity_search(query)\n",
    "for doc in docs:\n",
    "    print(doc.metadata)"
   ]
  }
 ],
 "metadata": {
  "kernelspec": {
   "display_name": "Python 3",
   "language": "python",
   "name": "python3"
  },
  "language_info": {
   "codemirror_mode": {
    "name": "ipython",
    "version": 3
   },
   "file_extension": ".py",
   "mimetype": "text/x-python",
   "name": "python",
   "nbconvert_exporter": "python",
   "pygments_lexer": "ipython3",
   "version": "3.10.8"
  }
 },
 "nbformat": 4,
 "nbformat_minor": 2
}
